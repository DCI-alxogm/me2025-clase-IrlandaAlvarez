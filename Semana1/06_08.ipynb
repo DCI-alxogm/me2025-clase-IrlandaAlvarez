{
  "nbformat": 4,
  "nbformat_minor": 0,
  "metadata": {
    "colab": {
      "provenance": [],
      "authorship_tag": "ABX9TyNMJZpTuPsJCaOTEa9lHmz7",
      "include_colab_link": true
    },
    "kernelspec": {
      "name": "python3",
      "display_name": "Python 3"
    },
    "language_info": {
      "name": "python"
    }
  },
  "cells": [
    {
      "cell_type": "markdown",
      "metadata": {
        "id": "view-in-github",
        "colab_type": "text"
      },
      "source": [
        "<a href=\"https://colab.research.google.com/github/DCI-alxogm/me2025-clase-IrlandaAlvarez/blob/main/Semana1/06_08.ipynb\" target=\"_parent\"><img src=\"https://colab.research.google.com/assets/colab-badge.svg\" alt=\"Open In Colab\"/></a>"
      ]
    },
    {
      "cell_type": "code",
      "execution_count": null,
      "metadata": {
        "id": "ELjMjuDIXi_D"
      },
      "outputs": [],
      "source": [
        "#Este es mi primer cuaderno de Jupyter"
      ]
    },
    {
      "cell_type": "code",
      "source": [
        "print(\"Prueba de cuaderno\")"
      ],
      "metadata": {
        "colab": {
          "base_uri": "https://localhost:8080/"
        },
        "id": "zRos08EWbas0",
        "outputId": "bc54639b-0fc5-4285-80c8-e1cb9dceda9f"
      },
      "execution_count": 1,
      "outputs": [
        {
          "output_type": "stream",
          "name": "stdout",
          "text": [
            "Prueba de cuaderno\n"
          ]
        }
      ]
    },
    {
      "cell_type": "code",
      "source": [],
      "metadata": {
        "id": "e1xSdDBxbn-G"
      },
      "execution_count": null,
      "outputs": []
    }
  ]
}