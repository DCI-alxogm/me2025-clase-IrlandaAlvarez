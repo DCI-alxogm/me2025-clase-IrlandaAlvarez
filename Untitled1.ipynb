{
  "nbformat": 4,
  "nbformat_minor": 0,
  "metadata": {
    "colab": {
      "provenance": [],
      "authorship_tag": "ABX9TyOd+XdCD0OJdfkz1yzbMkmo",
      "include_colab_link": true
    },
    "kernelspec": {
      "name": "python3",
      "display_name": "Python 3"
    },
    "language_info": {
      "name": "python"
    }
  },
  "cells": [
    {
      "cell_type": "markdown",
      "metadata": {
        "id": "view-in-github",
        "colab_type": "text"
      },
      "source": [
        "<a href=\"https://colab.research.google.com/github/DCI-alxogm/me2025-clase-IrlandaAlvarez/blob/main/Untitled1.ipynb\" target=\"_parent\"><img src=\"https://colab.research.google.com/assets/colab-badge.svg\" alt=\"Open In Colab\"/></a>"
      ]
    },
    {
      "cell_type": "code",
      "execution_count": 3,
      "metadata": {
        "id": "7I3WsEfEYS58"
      },
      "outputs": [],
      "source": [
        "!gcc error_aproximado.c -lm -o error_aproximado.o"
      ]
    },
    {
      "cell_type": "code",
      "source": [
        "!./error_aproximado.o"
      ],
      "metadata": {
        "colab": {
          "base_uri": "https://localhost:8080/"
        },
        "id": "28tB-ebscmhw",
        "outputId": "2f272eaf-bfa6-4ee6-c4a1-05998b2e8d88"
      },
      "execution_count": 5,
      "outputs": [
        {
          "output_type": "stream",
          "name": "stdout",
          "text": [
            "Porfavor ingresa el valor de x: 0.5\n",
            "Ahora ingresa el valor de n aproximaciones: 5\n",
            "Su aproximación de error es de 1 = 1.500000\n",
            "Su aproximación de error es de 2 = 1.125000\n",
            "Su aproximación de error es de 3 = 1.020833\n",
            "Su aproximación de error es de 4 = 1.002604\n"
          ]
        }
      ]
    }
  ]
}