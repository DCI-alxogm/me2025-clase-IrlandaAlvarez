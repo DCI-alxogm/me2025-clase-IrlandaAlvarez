{
  "nbformat": 4,
  "nbformat_minor": 0,
  "metadata": {
    "colab": {
      "provenance": [],
      "authorship_tag": "ABX9TyMoT/cIioxMVPXv35wBqN0x",
      "include_colab_link": true
    },
    "kernelspec": {
      "name": "python3",
      "display_name": "Python 3"
    },
    "language_info": {
      "name": "python"
    }
  },
  "cells": [
    {
      "cell_type": "markdown",
      "metadata": {
        "id": "view-in-github",
        "colab_type": "text"
      },
      "source": [
        "<a href=\"https://colab.research.google.com/github/DCI-alxogm/me2025-clase-IrlandaAlvarez/blob/main/Ago_12.ipynb\" target=\"_parent\"><img src=\"https://colab.research.google.com/assets/colab-badge.svg\" alt=\"Open In Colab\"/></a>"
      ]
    },
    {
      "cell_type": "markdown",
      "source": [],
      "metadata": {
        "id": "CUjgJ6o3V4pS"
      }
    },
    {
      "cell_type": "code",
      "execution_count": null,
      "metadata": {
        "id": "BgoQCrmgFtP0"
      },
      "outputs": [],
      "source": [
        "!gcc Ago12_ej1.c -lm -o Ago12_ej1.o"
      ]
    },
    {
      "cell_type": "code",
      "source": [
        "!./Ago12_ej1.o"
      ],
      "metadata": {
        "colab": {
          "base_uri": "https://localhost:8080/"
        },
        "id": "5l_9_3YtJeGL",
        "outputId": "a5a6c455-cdb5-4039-bc52-db3e53d232d4"
      },
      "execution_count": null,
      "outputs": [
        {
          "output_type": "stream",
          "name": "stdout",
          "text": [
            "x=1 exp(x)+cos(x)=3.258584\n",
            "x=2 log(x+1)=0.477121\n",
            "x=3 exp(x)+cos(x)=19.095545\n",
            "x=4 log(x+1)=0.698970\n",
            "x=5 exp(x)+cos(x)=148.696823\n",
            "\n",
            "Resultados:\n",
            "3.258584\n",
            "0.477121\n",
            "19.095545\n",
            "0.698970\n",
            "148.696823\n",
            "\n",
            "Suma de pis:\n",
            "Pi+Pi=6.28318548"
          ]
        }
      ]
    }
  ]
}